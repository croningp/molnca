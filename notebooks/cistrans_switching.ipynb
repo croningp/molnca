{
 "cells": [
  {
   "cell_type": "markdown",
   "metadata": {},
   "source": [
    "## Imports and Helpers"
   ]
  },
  {
   "cell_type": "code",
   "execution_count": 1,
   "metadata": {},
   "outputs": [],
   "source": [
    "%load_ext autoreload\n",
    "%autoreload 2"
   ]
  },
  {
   "cell_type": "code",
   "execution_count": null,
   "metadata": {},
   "outputs": [],
   "source": [
    "import warnings\n",
    "import os\n",
    "import sys\n",
    "sys.path.append(os.path.abspath(os.path.join(os.getcwd(), os.pardir)))\n",
    "os.environ[\"CUDA_DEVICE_ORDER\"] = \"PCI_BUS_ID\"\n",
    "os.environ[\"CUDA_VISIBLE_DEVICES\"] = \"1\"\n",
    "\n",
    "from ncamol.models.trainer.trainer import train_loop_ext_force\n",
    "import pickle\n",
    "from Bio import BiopythonWarning\n",
    "import numpy as np\n",
    "import torch\n",
    "import os\n",
    "from pathlib import Path\n",
    "from ncamol.data_prep.electron_density.electron_density import Edens_Dataset\n",
    "from rdkit import Chem\n",
    "from rdkit.Chem import AllChem\n",
    "from ncamol.visulization import plot_voxel\n",
    "from ncamol.data_prep.utils import prepare_targets\n",
    "from ncamol.models.utils import flush_cuda_cache\n",
    "from ncamol.models.model import LitModel, LitModel_external_force\n",
    "from ncamol.models.dataset.multiconf import MultiConfDataset\n",
    "\n",
    "warnings.simplefilter(\"ignore\", BiopythonWarning)\n",
    "torch.backends.cudnn.deterministic = True"
   ]
  },
  {
   "cell_type": "code",
   "execution_count": null,
   "metadata": {},
   "outputs": [],
   "source": [
    "isomer_path = \"../data/cis_trans/mol_files/\"\n",
    "isommer_edens_storage = \"../data/cis_trans/electron_density/\"\n",
    "\n",
    "for path in [isomer_path, isommer_edens_storage]:\n",
    "    if not os.path.exists(path):\n",
    "        os.makedirs(path)\n",
    "\n",
    "def preprocess_esp_ed(edens, esp):\n",
    "    # will half the size of the input\n",
    "    conv3d = torch.nn.Conv3d(1, 1, 3, stride=1, padding=1, bias=False)\n",
    "    conv3d.weight.data.fill_(1)\n",
    "\n",
    "    dense_esp = (\n",
    "        conv3d(\n",
    "            torch.tensor(\n",
    "                esp, dtype=torch.float, requires_grad=False\n",
    "            ).unsqueeze(0)\n",
    "        )\n",
    "        .squeeze()\n",
    "        .detach()\n",
    "        .numpy()\n",
    "    )\n",
    "    dense_ed = (\n",
    "        conv3d(\n",
    "            torch.tensor(edens, dtype=torch.float, requires_grad=False)\n",
    "            .unsqueeze(0)\n",
    "            .unsqueeze(0)\n",
    "        )\n",
    "        .squeeze()\n",
    "        .detach()\n",
    "        .numpy()\n",
    "    )\n",
    "\n",
    "    decoreated_ed = dense_esp * np.where(dense_ed < 0.0001, 0, 1)\n",
    "    return decoreated_ed, dense_esp, dense_ed\n",
    "\n",
    "def load_ed_esp(file_path):\n",
    "    with open(file_path + \"ed.pkl\", \"rb\") as f:\n",
    "        edens = pickle.load(f)\n",
    "    with open(file_path + \"esp.pkl\", \"rb\") as f:\n",
    "        esp = pickle.load(f)\n",
    "    return edens, esp"
   ]
  },
  {
   "cell_type": "markdown",
   "metadata": {},
   "source": [
    "## Data Preparation\n",
    "Computing Electron Density & Electro Static Potential\n",
    "as well as conformers"
   ]
  },
  {
   "cell_type": "markdown",
   "metadata": {},
   "source": [
    "### Ligand ED/ESP\n",
    "and conformer generation\n"
   ]
  },
  {
   "cell_type": "code",
   "execution_count": 3,
   "metadata": {},
   "outputs": [],
   "source": [
    "def save_molecule_conf(molecule, path):\n",
    "    molecule = Chem.RemoveHs(molecule)\n",
    "    write = Chem.SDWriter(path)\n",
    "    write.write(molecule)\n",
    "    write.close()\n"
   ]
  },
  {
   "cell_type": "code",
   "execution_count": null,
   "metadata": {},
   "outputs": [],
   "source": [
    "mol_cis = \"Oc1cc(O)cc(/C=C\\c2cc(O)cc(O)c2)c1\"\n",
    "mol_trans = \"Oc1cc(O)cc(\\C=C\\c2cc(O)cc(O)c2)c1\"\n",
    "\n",
    "molH_cis = Chem.AddHs(Chem.MolFromSmiles(mol_cis))\n",
    "molH_trans = Chem.AddHs(Chem.MolFromSmiles(mol_trans))\n",
    "\n",
    "\n",
    "AllChem.EmbedMolecule(molH_cis)\n",
    "AllChem.MMFFOptimizeMolecule(molH_cis)\n",
    "\n",
    "AllChem.EmbedMolecule(molH_trans)\n",
    "save_path = \"../data/cis_trans/mol_files/\"\n",
    "AllChem.rdmolfiles.MolToXYZFile(molH_cis, save_path + \"cis.xyz\")\n"
   ]
  },
  {
   "cell_type": "code",
   "execution_count": null,
   "metadata": {},
   "outputs": [],
   "source": [
    "save_molecule_conf(molH_trans, save_path + \"trans_conf.sdf\")\n"
   ]
  },
  {
   "cell_type": "code",
   "execution_count": 4,
   "metadata": {},
   "outputs": [],
   "source": [
    "dim = 30\n",
    "edens_prep = Edens_Dataset(\n",
    "    file_path=isomer_path,\n",
    "    storage_path=isommer_edens_storage,\n",
    "    n_points=dim,\n",
    "    step_size=1.5,\n",
    ")\n",
    "edens_prep._compute_electron_density()"
   ]
  },
  {
   "cell_type": "code",
   "execution_count": 5,
   "metadata": {},
   "outputs": [],
   "source": [
    "edens_cis, esp_cis = load_ed_esp(isommer_edens_storage + \"cis/\")\n",
    "edens_trans, esp_trans = load_ed_esp(isommer_edens_storage + \"trans/\")"
   ]
  },
  {
   "cell_type": "code",
   "execution_count": null,
   "metadata": {},
   "outputs": [],
   "source": [
    "conv3d = torch.nn.Conv3d(1, 1, 3, stride=1, padding=1, bias=False)\n",
    "conv3d.weight.data.fill_(1)\n",
    "\n",
    "\n",
    "dense_esp_cis = (\n",
    "    conv3d(\n",
    "        torch.tensor(\n",
    "            esp_cis, dtype=torch.float, requires_grad=False\n",
    "        ).unsqueeze(0)\n",
    "    )\n",
    "    .squeeze()\n",
    "    .detach()\n",
    "    .numpy()\n",
    ")\n",
    "\n",
    "dense_esp_trans = (\n",
    "    conv3d(\n",
    "        torch.tensor(\n",
    "            esp_trans, dtype=torch.float, requires_grad=False\n",
    "        ).unsqueeze(0)\n",
    "    )\n",
    "    .squeeze()\n",
    "    .detach()\n",
    "    .numpy()\n",
    ")\n",
    "\n",
    "decorated_ed_cis = np.expand_dims(\n",
    "    np.where(edens_cis < 0.0001, 0, 1) * dense_esp_cis, axis=0\n",
    ")[:, 5:25, 5:25, 9:22]\n",
    "decorated_ed_trans = np.expand_dims(\n",
    "    np.where(edens_trans < 0.0001, 0, 1) * dense_esp_trans, axis=0\n",
    ")[:, 5:25, 5:25, 9:22]\n",
    "\n",
    "np.expand_dims(np.where(edens_cis < 0.0001, 0, 1) * dense_esp_cis, axis=0)[\n",
    "    :, 5:25, 5:25, 9:22\n",
    "].sum() == np.expand_dims(\n",
    "    np.where(edens_cis < 0.0001, 0, 1) * dense_esp_cis, axis=0\n",
    ").sum()\n",
    "\n",
    "np.expand_dims(np.where(edens_trans < 0.0001, 0, 1) * dense_esp_trans, axis=0)[\n",
    "    :, 5:25, 5:25, 9:22\n",
    "].sum() == np.expand_dims(\n",
    "    np.where(edens_trans < 0.0001, 0, 1) * dense_esp_trans, axis=0\n",
    ").sum()"
   ]
  },
  {
   "cell_type": "code",
   "execution_count": 8,
   "metadata": {},
   "outputs": [],
   "source": [
    "channeled_ed_esp_cis = np.concatenate(\n",
    "    [\n",
    "        np.where(decorated_ed_cis < 0, 1, 0),\n",
    "        np.where(decorated_ed_cis > 0, 1, 0),\n",
    "    ]\n",
    ")\n",
    "\n",
    "channeled_ed_esp_trans = np.concatenate(\n",
    "    [\n",
    "        np.where(decorated_ed_trans < 0, 1, 0),\n",
    "        np.where(decorated_ed_trans > 0, 1, 0),\n",
    "    ]\n",
    ")\n",
    "\n",
    "plot_voxel(channeled_ed_esp_trans)"
   ]
  },
  {
   "cell_type": "markdown",
   "metadata": {},
   "source": [
    "## Train"
   ]
  },
  {
   "cell_type": "markdown",
   "metadata": {},
   "source": [
    "### Pretrain"
   ]
  },
  {
   "cell_type": "code",
   "execution_count": 18,
   "metadata": {},
   "outputs": [],
   "source": [
    "cis_input = prepare_targets(channeled_ed_esp_cis, bs=1, num_hidden=24)\n",
    "trans_input = prepare_targets(channeled_ed_esp_trans, bs=1, num_hidden=24)\n"
   ]
  },
  {
   "cell_type": "code",
   "execution_count": null,
   "metadata": {},
   "outputs": [],
   "source": [
    "ds = MultiConfDataset(cis_input, trans_input, pretrain=True)\n",
    "logging_path = Path(\"../models/logs/cis_trans/edens/\")\n",
    "isomer_config = {\n",
    "    \"normal_std\": 0.01,\n",
    "    \"learning_rate\": 0.001,\n",
    "    \"alive_threshold\": 0.1,\n",
    "    \"cell_fire_rate\": 0.5,\n",
    "    \"steps\": [48, 64],\n",
    "    \"num_categories\": 3,\n",
    "    \"num_hidden_channels\": 24,\n",
    "    \"num_epochs\": 2500,\n",
    "    \"channel_dims\": [56, 56],\n",
    "    \"report_interval\": 100,\n",
    "    \"logging_path\": logging_path,\n",
    "    \"pretrain\": True\n",
    "}\n",
    "\n",
    "model = train_loop_ext_force(data=ds, **isomer_config)"
   ]
  },
  {
   "cell_type": "markdown",
   "metadata": {},
   "source": [
    "### Finetune"
   ]
  },
  {
   "cell_type": "code",
   "execution_count": null,
   "metadata": {},
   "outputs": [],
   "source": [
    "ds_ft = MultiConfDataset(cis_input, trans_input, pretrain=False)\n",
    "\n",
    "\n",
    "isomer_config_finetune = {\n",
    "    \"normal_std\": 0.01,\n",
    "    \"learning_rate\": 0.001,\n",
    "    \"alive_threshold\": 0.1,\n",
    "    \"cell_fire_rate\": 0.5,\n",
    "    \"steps\": [48, 64],\n",
    "    \"num_categories\": 3,\n",
    "    \"num_hidden_channels\": 24,\n",
    "    \"num_epochs\": 2500,\n",
    "    \"channel_dims\": [56, 56],\n",
    "    \"report_interval\": 100,\n",
    "    \"logging_path\": logging_path,\n",
    "    \"checkpoint\": logging_path / \"ckpt.pt\"\n",
    "}\n",
    "\n",
    "states, losses, model = train_loop_ext_force(\n",
    "    data=ds_ft,\n",
    "    **isomer_config_finetune,\n",
    "    model=model,\n",
    "    at_epoch=2500\n",
    ")\n"
   ]
  }
 ],
 "metadata": {
  "kernelspec": {
   "display_name": ".venv",
   "language": "python",
   "name": "python3"
  },
  "language_info": {
   "codemirror_mode": {
    "name": "ipython",
    "version": 3
   },
   "file_extension": ".py",
   "mimetype": "text/x-python",
   "name": "python",
   "nbconvert_exporter": "python",
   "pygments_lexer": "ipython3",
   "version": "3.11.10"
  }
 },
 "nbformat": 4,
 "nbformat_minor": 2
}
