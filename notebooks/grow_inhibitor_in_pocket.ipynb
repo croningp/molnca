{
 "cells": [
  {
   "cell_type": "markdown",
   "metadata": {},
   "source": [
    "## Imports and Helpers"
   ]
  },
  {
   "cell_type": "code",
   "execution_count": 1,
   "metadata": {},
   "outputs": [],
   "source": [
    "%load_ext autoreload\n",
    "%autoreload 2"
   ]
  },
  {
   "cell_type": "code",
   "execution_count": 1,
   "metadata": {},
   "outputs": [],
   "source": [
    "import warnings\n",
    "import os\n",
    "import sys\n",
    "from pathlib import Path\n",
    "sys.path.append(os.path.abspath(os.path.join(os.getcwd(), os.pardir)))\n",
    "os.environ[\"CUDA_DEVICE_ORDER\"] = \"PCI_BUS_ID\"\n",
    "os.environ[\"CUDA_VISIBLE_DEVICES\"] = \"1\"\n",
    "\n",
    "from ncamol.models.trainer.trainer import lightning_train_loop\n",
    "from ncamol.data_prep.voxel_tools.voxel import Voxel_Ligand, Voxel_PDB\n",
    "from ncamol.data_prep.pdb_tools.prepare_pdb import PDB\n",
    "from ncamol.visulization import plot_voxel\n",
    "\n",
    "from Bio import BiopythonWarning\n",
    "from Bio.PDB import PDBParser\n",
    "\n",
    "import torch\n",
    "from torch import nn\n",
    "\n",
    "warnings.simplefilter(\"ignore\", BiopythonWarning)\n",
    "torch.backends.cudnn.deterministic = True"
   ]
  },
  {
   "cell_type": "code",
   "execution_count": 3,
   "metadata": {},
   "outputs": [],
   "source": [
    "DATA_DIR = \"../data/protein_pockets/\"\n",
    "PDB_PATH = f\"{DATA_DIR}complex_structures/\"\n",
    "structure_path = f\"{DATA_DIR}ligand_and_pockets/\"\n",
    "\n",
    "STORAGE_DIR_POCKETS = f\"{DATA_DIR}pockets/\"\n",
    "STORAGE_DIR_LIGANDS_POCKETS = f\"{DATA_DIR}ligand_and_pockets/\"\n",
    "STORAGE_DIR_LIGANDS = f\"{DATA_DIR}ligands/\"\n",
    "voxel_storage_path = \"../data/protein_pockets/voxelized_pockets/\"\n",
    "\n",
    "for path in [DATA_DIR, PDB_PATH, structure_path,STORAGE_DIR_POCKETS, STORAGE_DIR_LIGANDS_POCKETS, voxel_storage_path, STORAGE_DIR_LIGANDS]:\n",
    "    Path(path).mkdir(parents=True, exist_ok=True)\n",
    "\n",
    "\n",
    "def clear_all():\n",
    "    import gc\n",
    "    \n",
    "    gc.collect()\n",
    "    torch.cuda.empty_cache()\n",
    "\n",
    "\n",
    "def prepare_inputs(\n",
    "    pockets: list[torch.tensor], n_hidden: int = 20\n",
    ") -> list[torch.tensor]:\n",
    "    inputs = torch.tensor([])\n",
    "\n",
    "    for pocket in pockets:\n",
    "        is_air = torch.where(\n",
    "            torch.max(pocket, dim=0)[0].unsqueeze(0) == 0, 1, 0\n",
    "        )\n",
    "        is_alive = nn.functional.max_pool3d(\n",
    "            (is_air == 0).float(),\n",
    "            kernel_size=1,\n",
    "            stride=1,\n",
    "        ).int()\n",
    "        n_hidden = n_hidden\n",
    "        hidden_channels = (is_air == 1).repeat(n_hidden, 1, 1, 1)\n",
    "\n",
    "        pocket = (\n",
    "            torch.cat([is_air, pocket, is_alive, hidden_channels], dim=0)\n",
    "            .unsqueeze(0)\n",
    "            .to(torch.float)\n",
    "        )\n",
    "        inputs = torch.cat([inputs, pocket], dim=0)\n",
    "    return inputs\n",
    "\n",
    "\n",
    "def prepare_outputs(pockets, ligands):\n",
    "    outputs = torch.tensor([])\n",
    "    for pocket, ligand in zip(pockets, ligands):\n",
    "        from_pocket_target = torch.clip(pocket + ligand, 0, 1).unsqueeze(0)\n",
    "        outputs = torch.cat([outputs, from_pocket_target], dim=0)\n",
    "    return outputs"
   ]
  },
  {
   "cell_type": "markdown",
   "metadata": {},
   "source": [
    "## Data Preparation\n",
    "Prepare protein/ binding pocket and ligand in an atom_channel representation\n"
   ]
  },
  {
   "cell_type": "markdown",
   "metadata": {},
   "source": [
    "### Protein/Ligand Atom Channel"
   ]
  },
  {
   "cell_type": "code",
   "execution_count": null,
   "metadata": {},
   "outputs": [],
   "source": [
    "p = PDB(pdb_id=\"1f8c\", pdb_path=PDB_PATH)\n",
    "p.retrieve_binding_pocket(\n",
    "    storage_dir_pocket=STORAGE_DIR_POCKETS,\n",
    "    storage_dir_lig_and_pocket=STORAGE_DIR_LIGANDS_POCKETS,\n",
    "    storage_dir_lig=STORAGE_DIR_LIGANDS,\n",
    "    cutoff=12,\n",
    ")"
   ]
  },
  {
   "cell_type": "code",
   "execution_count": 14,
   "metadata": {},
   "outputs": [],
   "source": [
    "grid_size = 36 # in Angstrom\n",
    "step = 1 # in Angstrom\n",
    "# resulution of the voxel grid is grid_size/step\n",
    "\n",
    "pdb_structure = PDBParser().get_structure(\"1f8c\", f\"{STORAGE_DIR_POCKETS}1f8c_05.pdb\")\n",
    "v = Voxel_PDB(pdb_structure, grid_size=grid_size, voxel_size=step)\n",
    "pocket = v._voxelize()[0]\n",
    "pocket[pocket > 0] = 1\n",
    "\n",
    "ligand_struct = PDBParser().get_structure(\"1f8c_05\", f\"{STORAGE_DIR_LIGANDS}/1f8c_05.pdb\")\n",
    "v_l = Voxel_Ligand(ligand_struct, grid_size=grid_size, voxel_size=step)\n",
    "v_l.center_vector = v.center_vector\n",
    "ligand = v_l._voxelize()\n",
    "ligand[ligand > 0] = 1"
   ]
  },
  {
   "cell_type": "code",
   "execution_count": null,
   "metadata": {},
   "outputs": [],
   "source": [
    "vox = plot_voxel(ligand)"
   ]
  },
  {
   "cell_type": "code",
   "execution_count": null,
   "metadata": {},
   "outputs": [],
   "source": [
    "vox = plot_voxel(pocket)"
   ]
  },
  {
   "cell_type": "code",
   "execution_count": null,
   "metadata": {},
   "outputs": [],
   "source": [
    "pocket = torch.tensor(pocket)\n",
    "ligand = torch.tensor(ligand)\n",
    "\n",
    "inputs = prepare_inputs([pocket])\n",
    "targets = prepare_outputs([pocket], [ligand])\n",
    "\n",
    "inputs.shape, targets.shape"
   ]
  },
  {
   "cell_type": "code",
   "execution_count": null,
   "metadata": {},
   "outputs": [],
   "source": [
    "# # ids = [\"184l_00\", \"1azm_00\", \"1fkn_00\"]\n",
    "\n",
    "# # ligands = [\n",
    "# #     torch.load(f\"{VOXEL_STORAGE_PATH}/{id}_ligand.pt\").to_dense()[\n",
    "# #         :-1, 3:33, 3:33, 3:33\n",
    "# #     ]\n",
    "# #     for id in ids\n",
    "# # ]\n",
    "# # pockets = [\n",
    "# #     torch.load(f\"{VOXEL_STORAGE_PATH}/{id}_protein.pt\").to_dense()[\n",
    "# #         :-1, 3:33, 3:33, 3:33\n",
    "# #     ]\n",
    "# #     for id in ids\n",
    "# # ]\n",
    "\n",
    "# inputs = prepare_inputs(pockets)\n",
    "# targets = prepare_outputs(pockets, ligands)\n",
    "\n",
    "# inputs.shape, targets.shape"
   ]
  },
  {
   "cell_type": "markdown",
   "metadata": {},
   "source": [
    "## Train"
   ]
  },
  {
   "cell_type": "code",
   "execution_count": 23,
   "metadata": {},
   "outputs": [],
   "source": [
    "# dtype of the inputs and targets\n",
    "inputs.dtype, targets.dtype\n",
    "\n",
    "# make float32\n",
    "inputs = inputs.to(torch.float32)\n",
    "targets = targets.to(torch.float32)"
   ]
  },
  {
   "cell_type": "code",
   "execution_count": null,
   "metadata": {},
   "outputs": [],
   "source": [
    "logging_path = Path(\"/home/sebastian/code/molnca/ncamol/models/logs/grow_in_pocket/atom_channels/\")\n",
    "\n",
    "multiple_pocket_to_ligand_config_new_loss = {\n",
    "    \"normal_std\": 0.04,\n",
    "    \"learning_rate\": 0.001,\n",
    "    \"alive_threshold\": 0.1,\n",
    "    \"cell_fire_rate\": 0.5,\n",
    "    \"steps\": [48, 64],\n",
    "    \"num_categories\": 8,\n",
    "    \"num_hidden_channels\": 20,\n",
    "    \"num_epochs\": 40_000,\n",
    "    \"channel_dims\": [56, 56],\n",
    "    \"from_pocket\": True,\n",
    "    \"report_interval\": 100,\n",
    "    \"logging_path\": logging_path,\n",
    "}\n",
    "\n",
    "model = lightning_train_loop(\n",
    "    x0=inputs,\n",
    "    target=targets,\n",
    "    **multiple_pocket_to_ligand_config_new_loss,\n",
    ")\n"
   ]
  }
 ],
 "metadata": {
  "kernelspec": {
   "display_name": ".venv",
   "language": "python",
   "name": "python3"
  },
  "language_info": {
   "codemirror_mode": {
    "name": "ipython",
    "version": 3
   },
   "file_extension": ".py",
   "mimetype": "text/x-python",
   "name": "python",
   "nbconvert_exporter": "python",
   "pygments_lexer": "ipython3",
   "version": "3.11.10"
  }
 },
 "nbformat": 4,
 "nbformat_minor": 2
}
