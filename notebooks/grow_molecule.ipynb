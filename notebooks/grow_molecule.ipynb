{
 "cells": [
  {
   "cell_type": "markdown",
   "metadata": {},
   "source": [
    "## Growing Molecules from a single Seed\n",
    "Belows code contains everything needed to train a 3D NCA to generate molecular representations from a single seed"
   ]
  },
  {
   "cell_type": "code",
   "execution_count": null,
   "metadata": {},
   "outputs": [],
   "source": [
    "%load_ext autoreload\n",
    "%autoreload 2\n"
   ]
  },
  {
   "cell_type": "code",
   "execution_count": 2,
   "metadata": {},
   "outputs": [],
   "source": [
    "import warnings\n",
    "import os\n",
    "import sys\n",
    "from pathlib import Path\n",
    "import pickle\n",
    "sys.path.append(os.path.abspath(os.path.join(os.getcwd(), os.pardir)))\n",
    "os.environ[\"CUDA_DEVICE_ORDER\"] = \"PCI_BUS_ID\"\n",
    "os.environ[\"CUDA_VISIBLE_DEVICES\"] = \"1\"\n",
    "\n",
    "from ncamol.models.trainer.trainer import lightning_train_loop\n",
    "from ncamol.data_prep.voxel_tools.voxel import Voxel_Ligand, Voxel_PDB\n",
    "from ncamol.data_prep.pdb_tools.prepare_pdb import PDB\n",
    "from ncamol.visulization import plot_voxel\n",
    "from ncamol.data_prep.utils import prepare_targets, prepare_inputs\n",
    "from ncamol.models.utils import flush_cuda_cache\n",
    "from ncamol.models.model import LitModel\n",
    "from ncamol.data_prep.utils.conformer_utils import (\n",
    "    generate_xyz_file_from_conformer,\n",
    ")\n",
    "from ncamol.data_prep.electron_density.electron_density import Edens_Dataset\n",
    "\n",
    "from Bio import BiopythonWarning\n",
    "from Bio.PDB import PDBParser\n",
    "\n",
    "import numpy as np\n",
    "import torch\n",
    "from rdkit import Chem\n",
    "\n",
    "warnings.simplefilter(\"ignore\", BiopythonWarning)\n",
    "torch.backends.cudnn.deterministic = True"
   ]
  },
  {
   "cell_type": "code",
   "execution_count": 3,
   "metadata": {},
   "outputs": [],
   "source": [
    "DATA_DIR = \"../data/protein_pockets/\"\n",
    "PDB_PATH = f\"{DATA_DIR}complex_structures/\"\n",
    "structure_path = f\"{DATA_DIR}ligand_and_pockets/\"\n",
    "\n",
    "STORAGE_DIR_POCKETS = f\"{DATA_DIR}pockets/\"\n",
    "STORAGE_DIR_LIGANDS_POCKETS = f\"{DATA_DIR}ligand_and_pockets/\"\n",
    "STORAGE_DIR_LIGANDS = f\"{DATA_DIR}ligands/\"\n",
    "voxel_storage_path = \"../data/protein_pockets/voxelized_pockets/\"\n",
    "\n",
    "for path in [DATA_DIR, PDB_PATH, structure_path,STORAGE_DIR_POCKETS, STORAGE_DIR_LIGANDS_POCKETS, voxel_storage_path, STORAGE_DIR_LIGANDS]:\n",
    "    Path(path).mkdir(parents=True, exist_ok=True)"
   ]
  },
  {
   "cell_type": "markdown",
   "metadata": {},
   "source": [
    "## Data Preparation\n",
    "Extracting binding pockets from PDB, voxelizing PDBs, and calculating Electron Densities/ Electrostatic potentials\n"
   ]
  },
  {
   "cell_type": "markdown",
   "metadata": {},
   "source": [
    "###  Atom Channels"
   ]
  },
  {
   "cell_type": "markdown",
   "metadata": {},
   "source": [
    "ONLY EXECUTE ONCE PER PDB</br>\n",
    "Retrieves all binding pockets from a pdb file.</br>\n",
    " * pdb file will be stored in PDB_PATH </br>\n",
    " * pocket pdb (cutoff radius around each) will be stored in STORAGE_DIR_POCKETS </br>\n",
    " * pocket + ligand will be stored in STORAGE_DIR_LIGAND_POCKETS\n",
    " * ligand pdb will be stored in STORAGE_DIR_LIGANDS\n"
   ]
  },
  {
   "cell_type": "code",
   "execution_count": null,
   "metadata": {},
   "outputs": [],
   "source": [
    "p = PDB(pdb_id=\"1afk\", pdb_path=PDB_PATH)\n",
    "p.retrieve_binding_pocket(\n",
    "    storage_dir_pocket=STORAGE_DIR_POCKETS,\n",
    "    storage_dir_lig_and_pocket=STORAGE_DIR_LIGANDS_POCKETS,\n",
    "    storage_dir_lig=STORAGE_DIR_LIGANDS,\n",
    "    cutoff=12,\n",
    ")"
   ]
  },
  {
   "cell_type": "markdown",
   "metadata": {},
   "source": [
    "Voxelize pocket/ligands from respective pdb files </br>\n",
    "Each representation will be a num_atom_channels * (gridsize/voxelsize^3) numpy array"
   ]
  },
  {
   "cell_type": "markdown",
   "metadata": {},
   "source": [
    "the atom channels are:\n",
    "{\n",
    "        \"C\": 0,\n",
    "        \"N\": 1,\n",
    "        \"O\": 2,\n",
    "        \"S\": 3,\n",
    "        \"P\": 4,\n",
    "        \"Cl\": 5,\n",
    "        \"other\": 6,\n",
    "    }"
   ]
  },
  {
   "cell_type": "code",
   "execution_count": 24,
   "metadata": {},
   "outputs": [],
   "source": [
    "pdb_structure = PDBParser().get_structure(\"1afk\", f\"{STORAGE_DIR_LIGANDS_POCKETS}1afk_00.pdb\")\n",
    "v = Voxel_PDB(pdb_structure, grid_size=38, voxel_size=1)\n",
    "pocket = v._voxelize()[0]\n",
    "pocket[pocket > 0] = 1\n",
    "\n",
    "\n",
    "ligand_struct = PDBParser().get_structure(\"1afk_00\", f\"{STORAGE_DIR_LIGANDS}/1afk_00.pdb\")\n",
    "v_l = Voxel_Ligand(ligand_struct, grid_size=18, voxel_size=0.5)\n",
    "# v_l.center_vector = v.center_vector\n",
    "ligand = v_l._voxelize()\n",
    "ligand[ligand > 0] = 1"
   ]
  },
  {
   "cell_type": "code",
   "execution_count": null,
   "metadata": {},
   "outputs": [],
   "source": [
    "vox = plot_voxel(ligand)"
   ]
  },
  {
   "cell_type": "code",
   "execution_count": null,
   "metadata": {},
   "outputs": [],
   "source": [
    "vox = plot_voxel(pocket)"
   ]
  },
  {
   "cell_type": "markdown",
   "metadata": {},
   "source": [
    "###  Ligand ED/ESP\n",
    "Calcualte Electron Density and Electrostatic Potential of a molecule\n"
   ]
  },
  {
   "cell_type": "code",
   "execution_count": 4,
   "metadata": {},
   "outputs": [],
   "source": [
    "inhibitor_design_path = f\"{os.pardir}/data/inhibitor_design/pdbs/ligand/\"\n",
    "inhibitor_design_xyz_path = f\"{os.pardir}/data/inhibitor_design/xyz/ligand/\"\n",
    "inhibitor_design_storage = (\n",
    "    f\"{os.pardir}/data/inhibitor_design/electron_densities/ligand/\"\n",
    ")\n",
    "\n",
    "\n",
    "for path in [inhibitor_design_path, inhibitor_design_xyz_path, inhibitor_design_storage]:\n",
    "    if not os.path.exists(path):\n",
    "        os.makedirs(path)"
   ]
  },
  {
   "cell_type": "markdown",
   "metadata": {},
   "source": [
    "Same as above, but only save ligand instead of pocket and pocket+ligand from a pdb"
   ]
  },
  {
   "cell_type": "code",
   "execution_count": null,
   "metadata": {},
   "outputs": [],
   "source": [
    "p = PDB(pdb_id=\"1afk\", pdb_path=PDB_PATH)\n",
    "p.retrieve_ligand(\n",
    "    storage_dir_lig=inhibitor_design_path\n",
    ")"
   ]
  },
  {
   "cell_type": "markdown",
   "metadata": {},
   "source": [
    "Generate xyz files. This is needed for the electron density calculation"
   ]
  },
  {
   "cell_type": "code",
   "execution_count": 5,
   "metadata": {},
   "outputs": [],
   "source": [
    "ligand_files = os.listdir(inhibitor_design_path)\n",
    "ligand_names = list(map(lambda x: x.split(\".\")[0], ligand_files))\n",
    "ligands = list(\n",
    "    map(\n",
    "        lambda x: Chem.MolFromPDBFile(\n",
    "            f\"{inhibitor_design_path}{x}\"\n",
    "        ).GetConformer(),\n",
    "        ligand_files,\n",
    "    )\n",
    ")\n",
    "\n",
    "generate_xyz_file_from_conformer(\n",
    "    ligands,\n",
    "    names=ligand_names,\n",
    "    save_path=inhibitor_design_xyz_path,\n",
    "    complex_path=inhibitor_design_path,\n",
    ")"
   ]
  },
  {
   "cell_type": "markdown",
   "metadata": {},
   "source": [
    "Calc Edens and ESP. Result will be stored in a subdir of inhibitor_design_storage for each molecule in inhibitor_design_xyz_path"
   ]
  },
  {
   "cell_type": "code",
   "execution_count": null,
   "metadata": {},
   "outputs": [],
   "source": [
    "dim = 70\n",
    "edens_prep = Edens_Dataset(\n",
    "    file_path=inhibitor_design_xyz_path,\n",
    "    storage_path=inhibitor_design_storage,\n",
    "    n_points=dim,\n",
    "    step_size=0.5,\n",
    ")\n",
    "edens_prep._compute_electron_density()"
   ]
  },
  {
   "cell_type": "markdown",
   "metadata": {},
   "source": [
    "Decorate Electron Density with the ESP and dialate"
   ]
  },
  {
   "cell_type": "code",
   "execution_count": 5,
   "metadata": {},
   "outputs": [],
   "source": [
    "LIGAND_id = \"1afk_00\" # select one ligand\n",
    "\n",
    "file_path_ed = f\"{inhibitor_design_storage}{LIGAND_id}/ed.pkl\"\n",
    "file_path_esp = f\"{inhibitor_design_storage}{LIGAND_id}/esp.pkl\"\n",
    "\n",
    "with open(file_path_esp, \"rb\") as f:\n",
    "    esp = pickle.load(f)\n",
    "\n",
    "with open(file_path_ed, \"rb\") as f:\n",
    "    edens = pickle.load(f)\n",
    "def preprocess_esp_ed(edens, esp):\n",
    "    # will half the size of the input\n",
    "    conv3d = torch.nn.Conv3d(1, 1, 3, stride=2, padding=1, bias=False)\n",
    "    conv3d.weight.data.fill_(1)\n",
    "\n",
    "    dense_esp = (\n",
    "        conv3d(\n",
    "            torch.tensor(\n",
    "                esp, dtype=torch.float, requires_grad=False\n",
    "            ).unsqueeze(0)\n",
    "        )\n",
    "        .squeeze()\n",
    "        .detach()\n",
    "        .numpy()\n",
    "    )\n",
    "    dense_ed = (\n",
    "        conv3d(\n",
    "            torch.tensor(edens, dtype=torch.float, requires_grad=False)\n",
    "            .unsqueeze(0)\n",
    "            .unsqueeze(0)\n",
    "        )\n",
    "        .squeeze()\n",
    "        .detach()\n",
    "        .numpy()\n",
    "    )\n",
    "\n",
    "    decoreated_ed = dense_esp * np.where(dense_ed < 1e-4, 0, 1)\n",
    "    return decoreated_ed, dense_esp, dense_ed"
   ]
  },
  {
   "cell_type": "code",
   "execution_count": 7,
   "metadata": {},
   "outputs": [],
   "source": [
    "ed_esp, dense_esp, dense_ed = preprocess_esp_ed(edens, esp)\n",
    "\n",
    "dialated = np.zeros((2, *ed_esp.shape))\n",
    "dialated[0] = np.where(ed_esp > 0, 1, 0)\n",
    "dialated[1] = np.where(ed_esp < 0, 1, 0)"
   ]
  },
  {
   "cell_type": "code",
   "execution_count": null,
   "metadata": {},
   "outputs": [],
   "source": [
    "plot_voxel(dialated)"
   ]
  },
  {
   "cell_type": "markdown",
   "metadata": {},
   "source": [
    "## Reconstruction"
   ]
  },
  {
   "cell_type": "markdown",
   "metadata": {},
   "source": [
    "### Grow ligand without pocket [ED]"
   ]
  },
  {
   "cell_type": "code",
   "execution_count": 8,
   "metadata": {},
   "outputs": [],
   "source": [
    "logging_path = Path(\"/home/sebastian/code/molnca/ncamol/models/logs/grow_molecule/edesp/\")\n",
    "\n",
    "seed_to_ligand_config = {\n",
    "    \"normal_std\": 0.01,\n",
    "    \"learning_rate\": 0.001,\n",
    "    \"alive_threshold\": 0.1,\n",
    "    \"cell_fire_rate\": 0.5,\n",
    "    \"steps\": [48, 64],\n",
    "    \"num_categories\": 3,\n",
    "    \"num_hidden_channels\": 12,\n",
    "    \"num_epochs\": 40_000,\n",
    "    \"channel_dims\": [42, 42],\n",
    "    \"from_pocket\": False,\n",
    "    \"report_interval\": 100,\n",
    "    \"logging_path\": logging_path,}"
   ]
  },
  {
   "cell_type": "markdown",
   "metadata": {},
   "source": [
    "NOTE: It is best to remove most of the white space. Since The ED/ESP representation is a surface only representation this resulting voxel grid is extremly sparse and can lead to traninig instabilities "
   ]
  },
  {
   "cell_type": "code",
   "execution_count": null,
   "metadata": {},
   "outputs": [],
   "source": [
    "targets = prepare_targets(dialated[:,9:27,6:32,4:], bs=2)\n",
    "inputs = prepare_inputs(targets, seed_coords=np.array(targets.shape[-3:]) // 2, num_categories=seed_to_ligand_config[\"num_categories\"])\n",
    "\n",
    "inputs.shape, targets.shape"
   ]
  },
  {
   "cell_type": "code",
   "execution_count": null,
   "metadata": {},
   "outputs": [],
   "source": [
    "plot_voxel(targets[0, 1:3].detach().numpy())"
   ]
  },
  {
   "cell_type": "code",
   "execution_count": null,
   "metadata": {},
   "outputs": [],
   "source": [
    "model = lightning_train_loop(\n",
    "    x0=inputs, target=targets, **seed_to_ligand_config\n",
    ")"
   ]
  },
  {
   "cell_type": "markdown",
   "metadata": {},
   "source": [
    "Inference"
   ]
  },
  {
   "cell_type": "code",
   "execution_count": 42,
   "metadata": {},
   "outputs": [],
   "source": [
    "from ncamol.models.model.LitModel import LitModel\n",
    "model = LitModel.load_from_checkpoint(\"/home/sebastian/code/molnca/ncamol/models/logs/grow_molecule/edesp/atom_channel_reconstruction-v2.ckpt\")\n",
    "# move to gpu\n",
    "model = model.cuda()\n",
    "inputs = inputs.cuda()"
   ]
  },
  {
   "cell_type": "code",
   "execution_count": null,
   "metadata": {},
   "outputs": [],
   "source": [
    "out = torch.stack([model.forward(inputs, steps=step) for step in range(48, 65)]).detach().cpu().mean(0)\n",
    "plot_voxel(out[0, 1:3].detach().cpu().numpy() > 0.1)"
   ]
  },
  {
   "cell_type": "code",
   "execution_count": null,
   "metadata": {},
   "outputs": [],
   "source": [
    "plot_voxel(targets[0, 1:3].detach().numpy())"
   ]
  },
  {
   "cell_type": "markdown",
   "metadata": {},
   "source": [
    "### Grow ligand without pocket [Atom Channel] "
   ]
  },
  {
   "cell_type": "code",
   "execution_count": 5,
   "metadata": {},
   "outputs": [],
   "source": [
    "logging_path = Path(\"../models/logs/grow_molecule/atomchannel/\")\n",
    "\n",
    "seed_to_ligand_config = {\n",
    "    \"normal_std\": 0.01,\n",
    "    \"learning_rate\": 0.001,\n",
    "    \"alive_threshold\": 0.1,\n",
    "    \"cell_fire_rate\": 0.5,\n",
    "    \"steps\": [48, 64],\n",
    "    \"num_categories\": 8, # 7 atom channels + solvent/air channel\n",
    "    \"num_hidden_channels\": 12,\n",
    "    \"num_epochs\": 20_000,\n",
    "    \"channel_dims\": [42, 42],\n",
    "    \"from_pocket\": False,\n",
    "    \"report_interval\": 100,\n",
    "    \"logging_path\": logging_path,\n",
    "    \"loss\": [\"mse\", \"iou\"],\n",
    "    \"batch_size\": 4,\n",
    "}"
   ]
  },
  {
   "cell_type": "code",
   "execution_count": 25,
   "metadata": {},
   "outputs": [],
   "source": [
    "targets = prepare_targets(ligand, bs=4, num_hidden=seed_to_ligand_config[\"num_hidden_channels\"])\n",
    "inputs = prepare_inputs(targets, seed_coords=np.array(targets.shape[-3:]) // 2)"
   ]
  },
  {
   "cell_type": "code",
   "execution_count": null,
   "metadata": {},
   "outputs": [],
   "source": [
    "model = lightning_train_loop(\n",
    "    x0=inputs, target=targets, **seed_to_ligand_config\n",
    ")"
   ]
  },
  {
   "cell_type": "markdown",
   "metadata": {},
   "source": [
    "Inference"
   ]
  },
  {
   "cell_type": "code",
   "execution_count": 28,
   "metadata": {},
   "outputs": [],
   "source": [
    "from ncamol.models.model.LitModel import LitModel\n",
    "model = LitModel.load_from_checkpoint(\"/home/sebastian/code/molnca/ncamol/models/logs/grow_molecule/atomchannel/atom_channel_reconstruction-v4.ckpt\")\n",
    "\n",
    "model = model.cuda()\n",
    "inputs = inputs.cuda()"
   ]
  },
  {
   "cell_type": "code",
   "execution_count": null,
   "metadata": {},
   "outputs": [],
   "source": [
    "out = torch.stack([model.forward(inputs, steps=step).detach().cpu() for step in range(40, 72)]).mean(0)"
   ]
  },
  {
   "cell_type": "code",
   "execution_count": null,
   "metadata": {},
   "outputs": [],
   "source": [
    "plot_voxel(targets[0, 1:8].detach().cpu().numpy())"
   ]
  },
  {
   "cell_type": "code",
   "execution_count": null,
   "metadata": {},
   "outputs": [],
   "source": [
    "plot_voxel(out[0, 1:8].detach().cpu().numpy() > 0.1)"
   ]
  }
 ],
 "metadata": {
  "kernelspec": {
   "display_name": ".venv",
   "language": "python",
   "name": "python3"
  },
  "language_info": {
   "codemirror_mode": {
    "name": "ipython",
    "version": 3
   },
   "file_extension": ".py",
   "mimetype": "text/x-python",
   "name": "python",
   "nbconvert_exporter": "python",
   "pygments_lexer": "ipython3",
   "version": "3.11.10"
  },
  "orig_nbformat": 4
 },
 "nbformat": 4,
 "nbformat_minor": 2
}
